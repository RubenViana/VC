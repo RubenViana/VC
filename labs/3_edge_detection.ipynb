{
 "cells": [
  {
   "cell_type": "markdown",
   "metadata": {},
   "source": [
    "# Lab 3: Edge and line detection"
   ]
  },
  {
   "cell_type": "code",
   "execution_count": 2,
   "metadata": {},
   "outputs": [],
   "source": [
    "import cv2\n",
    "import numpy as np\n",
    "import os\n",
    "import math\n",
    "from matplotlib import pyplot as plt\n",
    "\n",
    "dataDir = 'Images_03a' # Change this, according to your images' directory path"
   ]
  },
  {
   "cell_type": "code",
   "execution_count": 5,
   "metadata": {},
   "outputs": [
    {
     "name": "stderr",
     "output_type": "stream",
     "text": [
      "qt.qpa.plugin: Could not find the Qt platform plugin \"wayland\" in \"/home/rubis/.local/lib/python3.10/site-packages/cv2/qt/plugins\"\n"
     ]
    }
   ],
   "source": [
    "# Open image\n",
    "img = cv2.imread(os.path.join(dataDir, 'corridor_01.jpg')) # Change this, according to your image's path\n",
    "\n",
    "# Convert to grayscale\n",
    "img = cv2.cvtColor(img, cv2.COLOR_BGR2GRAY)\n",
    "\n",
    "cv2.imshow(\"Image\", img)\n",
    "cv2.waitKey(0)\n",
    "cv2.destroyAllWindows()"
   ]
  },
  {
   "cell_type": "markdown",
   "metadata": {},
   "source": [
    "### 1. Sobel Filter"
   ]
  },
  {
   "cell_type": "markdown",
   "metadata": {},
   "source": [
    "Detecting edges using the [Sobel Filter](https://docs.opencv.org/master/d4/d86/group__imgproc__filter.html#gacea54f142e81b6758cb6f375ce782c8d)"
   ]
  },
  {
   "cell_type": "code",
   "execution_count": 7,
   "metadata": {},
   "outputs": [],
   "source": [
    "# Calculate the first derivatives of the image in x and y\n",
    "sobel_x = cv2.Sobel(img, cv2.CV_64F, 1, 0, ksize=5)\n",
    "sobel_y = cv2.Sobel(img, cv2.CV_64F, 0, 1, ksize=5)\n",
    "\n",
    "# Show the images\n",
    "cv2.imshow(\"Sobel X\", sobel_x)\n",
    "cv2.imshow(\"Sobel Y\", sobel_y)\n",
    "cv2.waitKey(0)\n",
    "cv2.destroyAllWindows()"
   ]
  },
  {
   "cell_type": "markdown",
   "metadata": {},
   "source": [
    "Exercise 1.1: Calculate the gradient by combining the X and Y axes and show the gradient image"
   ]
  },
  {
   "cell_type": "code",
   "execution_count": 8,
   "metadata": {},
   "outputs": [],
   "source": [
    "# Calculate both derivates of the image\n",
    "sobel_xy = cv2.Sobel(img, cv2.CV_64F, dx=1, dy=1, ksize=5)\n",
    "\n",
    "# Show the image\n",
    "cv2.imshow(\"Sobel XY\", sobel_xy)\n",
    "cv2.waitKey(0)\n",
    "cv2.destroyAllWindows()"
   ]
  },
  {
   "cell_type": "markdown",
   "metadata": {},
   "source": [
    "Exercise 1.2: Threshold the gradient image using a [trackbar](https://docs.opencv.org/4.x/da/d6a/tutorial_trackbar.html)"
   ]
  },
  {
   "cell_type": "code",
   "execution_count": 22,
   "metadata": {},
   "outputs": [],
   "source": [
    "max_value = 255\n",
    "threshold_init = 100\n",
    "window_name = \"Image\"\n",
    "trackbar_name = \"Threshold\"\n",
    "\n",
    "cv2.namedWindow(window_name, cv2.WINDOW_AUTOSIZE)\n",
    "\n",
    "# Callback function\n",
    "def threshold_callback(val):\n",
    "    threshold = val\n",
    "    _, dst = cv2.threshold(sobel_xy, threshold, max_value, cv2.THRESH_BINARY)\n",
    "    cv2.imshow(window_name, dst)\n",
    "\n",
    "# Create trackbar\n",
    "cv2.createTrackbar(trackbar_name, window_name, threshold_init, max_value, threshold_callback)\n",
    "\n",
    "# Show the image\n",
    "cv2.imshow(window_name, sobel_xy)\n",
    "cv2.waitKey(0)\n",
    "cv2.destroyAllWindows()"
   ]
  },
  {
   "cell_type": "markdown",
   "metadata": {},
   "source": [
    "Exercise 1.3: Test the effect of applying Gaussian blur filters of different sizes before applying Sobel filter"
   ]
  },
  {
   "cell_type": "code",
   "execution_count": 21,
   "metadata": {},
   "outputs": [],
   "source": [
    "# Apply gaussian blur filter\n",
    "img_1 = cv2.GaussianBlur(img, (5, 5), 0)\n",
    "img_2 = cv2.GaussianBlur(img, (9, 9), 0)\n",
    "img_3 = cv2.GaussianBlur(img, (15, 15), 0)\n",
    "\n",
    "# Sobel X and Y\n",
    "sobel_xy_1 = cv2.Sobel(img_1, cv2.CV_64F, dx=1, dy=1, ksize=5)\n",
    "sobel_xy_2 = cv2.Sobel(img_2, cv2.CV_64F, dx=1, dy=1, ksize=9)\n",
    "sobel_xy_3 = cv2.Sobel(img_3, cv2.CV_64F, dx=1, dy=1, ksize=15)\n",
    "\n",
    "# Show the image\n",
    "cv2.imshow(\"Sobel XY 1\", sobel_xy_1)\n",
    "cv2.imshow(\"Sobel XY 2\", sobel_xy_2)\n",
    "cv2.imshow(\"Sobel XY 3\", sobel_xy_3)\n",
    "cv2.waitKey(0)\n",
    "cv2.destroyAllWindows()"
   ]
  },
  {
   "cell_type": "markdown",
   "metadata": {},
   "source": [
    "Exercise 1.4: Experiment with different kernel sizes in the sobel filter"
   ]
  },
  {
   "cell_type": "code",
   "execution_count": 28,
   "metadata": {},
   "outputs": [],
   "source": [
    "kernel_init = 5\n",
    "window_name = \"Image\"\n",
    "\n",
    "cv2.namedWindow(window_name, cv2.WINDOW_AUTOSIZE)\n",
    "\n",
    "# Callback function\n",
    "def kernel_callback(val):\n",
    "    kernel = val\n",
    "    sobel_xy = cv2.Sobel(img, cv2.CV_64F, dx=1, dy=1, ksize=kernel)\n",
    "    cv2.imshow(window_name, sobel_xy)\n",
    "\n",
    "# Create trackbar\n",
    "cv2.createTrackbar(\"Kernel\", window_name, kernel_init, 15, kernel_callback)\n",
    "\n",
    "# Show the image\n",
    "cv2.imshow(window_name, sobel_xy)\n",
    "cv2.waitKey(0)\n",
    "cv2.destroyAllWindows()\n"
   ]
  },
  {
   "cell_type": "markdown",
   "metadata": {},
   "source": [
    "### 2. Laplacian of Gaussians (LoG) and Difference of Gaussians (DoG)\n",
    "\n",
    "Edge detection using Laplacian of Gaussians"
   ]
  },
  {
   "cell_type": "code",
   "execution_count": 29,
   "metadata": {},
   "outputs": [],
   "source": [
    "# Open image\n",
    "img = cv2.imread(os.path.join(dataDir, 'corridor_01.jpg')) # Change this, according to your image's path\n",
    "\n",
    "# Convert to grayscale\n",
    "img = cv2.cvtColor(img, cv2.COLOR_BGR2GRAY)\n",
    "\n",
    "# Apply Laplacian\n",
    "laplacian = cv2.Laplacian(img, cv2.CV_64F, ksize=3)\n",
    "\n",
    "cv2.imshow(\"LoG\", laplacian)\n",
    "cv2.waitKey(0)\n",
    "cv2.destroyAllWindows()"
   ]
  },
  {
   "cell_type": "markdown",
   "metadata": {},
   "source": [
    "Exercise 2.1: Verify the effects of using Gaussian Blur before applying the laplacian filter"
   ]
  },
  {
   "cell_type": "code",
   "execution_count": 32,
   "metadata": {},
   "outputs": [],
   "source": [
    "# Apply gaussian blur filter\n",
    "img_blur = cv2.GaussianBlur(img, (9, 9), 0)\n",
    "\n",
    "# Apply Laplacian\n",
    "laplacian = cv2.Laplacian(img, cv2.CV_64F, ksize=3)\n",
    "laplacian_blur = cv2.Laplacian(img_blur, cv2.CV_64F, ksize=3)\n",
    "\n",
    "cv2.imshow(\"LoG\", laplacian)\n",
    "cv2.imshow(\"LoG Blur\", laplacian_blur)\n",
    "cv2.waitKey(0)\n",
    "cv2.destroyAllWindows()"
   ]
  },
  {
   "cell_type": "markdown",
   "metadata": {},
   "source": [
    "Exercise 2.2: Implement edge detection through Difference of Gaussians"
   ]
  },
  {
   "cell_type": "code",
   "execution_count": 41,
   "metadata": {},
   "outputs": [],
   "source": [
    "# DoG\n",
    "gaussian_1 = cv2.GaussianBlur(img, (3, 3), 0)\n",
    "gaussian_2 = cv2.GaussianBlur(img, (5, 5), 0)\n",
    "\n",
    "DoG = gaussian_1 - gaussian_2\n",
    "\n",
    "cv2.imshow(\"DoG\", DoG)\n",
    "cv2.waitKey(0)\n",
    "cv2.destroyAllWindows()"
   ]
  },
  {
   "cell_type": "markdown",
   "metadata": {},
   "source": [
    "### 3. Canny Edge Filter\n",
    "\n",
    "Detect edges using the [Canny Filter](https://docs.opencv.org/master/dd/d1a/group__imgproc__feature.html#ga04723e007ed888ddf11d9ba04e2232de)"
   ]
  },
  {
   "cell_type": "code",
   "execution_count": 40,
   "metadata": {},
   "outputs": [],
   "source": [
    "# Apply a Canny Filter\n",
    "img_canny = cv2.Canny(img, 100, 200)\n",
    "\n",
    "cv2.imshow(\"Image\", img_canny)\n",
    "cv2.waitKey(0)\n",
    "cv2.destroyAllWindows()"
   ]
  },
  {
   "cell_type": "markdown",
   "metadata": {},
   "source": [
    "Exercise 3.1: Implement a track bar to alter the low and high threshold values of the Canny filter"
   ]
  },
  {
   "cell_type": "code",
   "execution_count": 42,
   "metadata": {},
   "outputs": [],
   "source": [
    "max_value = 255\n",
    "threshold_low_value = 100\n",
    "threshold_high_value = 200\n",
    "window_name = \"Image\"\n",
    "\n",
    "cv2.namedWindow(window_name, cv2.WINDOW_AUTOSIZE)\n",
    "\n",
    "def alter_low_value(val):\n",
    "    global threshold_low_value\n",
    "    threshold_low_value = val\n",
    "    img_canny = cv2.Canny(img, threshold_low_value, threshold_high_value)\n",
    "    cv2.imshow(window_name, img_canny)\n",
    "\n",
    "def alter_high_value(val):\n",
    "    global threshold_high_value\n",
    "    threshold_high_value = val\n",
    "    img_canny = cv2.Canny(img, threshold_low_value, threshold_high_value)\n",
    "    cv2.imshow(window_name, img_canny)\n",
    "\n",
    "cv2.createTrackbar(\"Low Threshold\", window_name, threshold_low_value, max_value, alter_low_value)\n",
    "cv2.createTrackbar(\"High Threshold\", window_name, threshold_high_value, max_value, alter_high_value)\n",
    "\n",
    "cv2.imshow(window_name, img_canny)\n",
    "cv2.waitKey(0)\n",
    "cv2.destroyAllWindows()"
   ]
  },
  {
   "cell_type": "markdown",
   "metadata": {},
   "source": [
    "Exercise 3.2: Compare the results of applying the following two filters to the same image:\n",
    " - Sobel filter, with threshold t, after smoothing the image with a Gaussian blur filter with size s;\n",
    " - Canny filter, with \"low threshold\" = \"high threshold\" = t and \"aperture\" = s, using the same t and s values. Try also with a \"low threshold\" different from the \"high threshold\"."
   ]
  },
  {
   "cell_type": "code",
   "execution_count": 43,
   "metadata": {},
   "outputs": [
    {
     "ename": "error",
     "evalue": "OpenCV(4.9.0) :-1: error: (-5:Bad argument) in function 'GaussianBlur'\n> Overload resolution failed:\n>  - GaussianBlur() missing required argument 'sigmaX' (pos 3)\n>  - GaussianBlur() missing required argument 'sigmaX' (pos 3)\n",
     "output_type": "error",
     "traceback": [
      "\u001b[0;31m---------------------------------------------------------------------------\u001b[0m",
      "\u001b[0;31merror\u001b[0m                                     Traceback (most recent call last)",
      "Cell \u001b[0;32mIn[43], line 4\u001b[0m\n\u001b[1;32m      1\u001b[0m t \u001b[38;5;241m=\u001b[39m \u001b[38;5;241m100\u001b[39m\n\u001b[1;32m      2\u001b[0m s \u001b[38;5;241m=\u001b[39m \u001b[38;5;241m5\u001b[39m\n\u001b[0;32m----> 4\u001b[0m gaussian \u001b[38;5;241m=\u001b[39m \u001b[43mcv2\u001b[49m\u001b[38;5;241;43m.\u001b[39;49m\u001b[43mGaussianBlur\u001b[49m\u001b[43m(\u001b[49m\u001b[43mimg\u001b[49m\u001b[43m,\u001b[49m\u001b[43m \u001b[49m\u001b[43m(\u001b[49m\u001b[43ms\u001b[49m\u001b[43m,\u001b[49m\u001b[43m \u001b[49m\u001b[43ms\u001b[49m\u001b[43m)\u001b[49m\u001b[43m)\u001b[49m\n\u001b[1;32m      5\u001b[0m sobel \u001b[38;5;241m=\u001b[39m cv2\u001b[38;5;241m.\u001b[39mSobel(gaussian, cv2\u001b[38;5;241m.\u001b[39mCV_64F, \u001b[38;5;241m1\u001b[39m, \u001b[38;5;241m1\u001b[39m, ksize\u001b[38;5;241m=\u001b[39m\u001b[38;5;241m5\u001b[39m)\n\u001b[1;32m      6\u001b[0m sobel_threshhold \u001b[38;5;241m=\u001b[39m cv2\u001b[38;5;241m.\u001b[39mthreshold(sobel, t, \u001b[38;5;241m255\u001b[39m, cv2\u001b[38;5;241m.\u001b[39mTHRESH_BINARY)\n",
      "\u001b[0;31merror\u001b[0m: OpenCV(4.9.0) :-1: error: (-5:Bad argument) in function 'GaussianBlur'\n> Overload resolution failed:\n>  - GaussianBlur() missing required argument 'sigmaX' (pos 3)\n>  - GaussianBlur() missing required argument 'sigmaX' (pos 3)\n"
     ]
    }
   ],
   "source": [
    "t = 100\n",
    "s = 5\n",
    "\n",
    "gaussian = cv2.GaussianBlur(img, (s, s))\n",
    "sobel = cv2.Sobel(gaussian, cv2.CV_64F, 1, 1, ksize=5)\n",
    "sobel_threshhold = cv2.threshold(sobel, t, 255, cv2.THRESH_BINARY)\n",
    "canny = cv2.Canny(img, t, 2*t)\n",
    "\n",
    "cv2.imshow(\"Canny\", canny)\n",
    "cv2.imshow(\"Sobel\", sobel_threshhold[1])\n",
    "cv2.waitKey(0)\n",
    "cv2.destroyAllWindows()"
   ]
  },
  {
   "cell_type": "markdown",
   "metadata": {},
   "source": [
    "### Extra: Hough Line Transform"
   ]
  },
  {
   "cell_type": "markdown",
   "metadata": {},
   "source": [
    "Example of [Standard Hough Lines Transform](https://docs.opencv.org/3.4/dd/d1a/group__imgproc__feature.html#ga46b4e588934f6c8dfd509cc6e0e4545a)"
   ]
  },
  {
   "cell_type": "code",
   "execution_count": 31,
   "metadata": {},
   "outputs": [],
   "source": [
    "# Opening an image\n",
    "img2 = cv2.imread(os.path.join(dataDir, 'chessboard_02.jpg'))\n",
    "\n",
    "# Convert to grayscale\n",
    "img2 = cv2.cvtColor(img2, cv2.COLOR_BGR2GRAY)\n",
    "\n",
    "# Display image\n",
    "cv2.imshow(\"Image\", img2)\n",
    "cv2.waitKey(0)\n",
    "cv2.destroyAllWindows()"
   ]
  },
  {
   "cell_type": "markdown",
   "metadata": {},
   "source": [
    "Step 1: Detect the edges of the input image using a Canny Filter"
   ]
  },
  {
   "cell_type": "code",
   "execution_count": 95,
   "metadata": {},
   "outputs": [],
   "source": [
    "# Apply Canny filter\n",
    "img2_canny = cv2.Canny(img2, 50, 200)\n",
    "\n",
    "# Create BGR copy of image\n",
    "img2_copy = cv2.cvtColor(img2_canny, cv2.COLOR_GRAY2BGR)\n",
    "\n",
    "# Display image\n",
    "cv2.imshow(\"Canny\", img2_canny)\n",
    "cv2.waitKey(0)\n",
    "cv2.destroyAllWindows()"
   ]
  },
  {
   "cell_type": "markdown",
   "metadata": {},
   "source": [
    "Step 2: Apply Hough Transform"
   ]
  },
  {
   "cell_type": "code",
   "execution_count": 3,
   "metadata": {},
   "outputs": [
    {
     "ename": "NameError",
     "evalue": "name 'img2_canny' is not defined",
     "output_type": "error",
     "traceback": [
      "\u001b[0;31m---------------------------------------------------------------------------\u001b[0m",
      "\u001b[0;31mNameError\u001b[0m                                 Traceback (most recent call last)",
      "Cell \u001b[0;32mIn[3], line 3\u001b[0m\n\u001b[1;32m      1\u001b[0m num_votes \u001b[38;5;241m=\u001b[39m \u001b[38;5;241m60\u001b[39m\n\u001b[0;32m----> 3\u001b[0m lines \u001b[38;5;241m=\u001b[39m cv2\u001b[38;5;241m.\u001b[39mHoughLines(\u001b[43mimg2_canny\u001b[49m, \u001b[38;5;241m1\u001b[39m, np\u001b[38;5;241m.\u001b[39mpi \u001b[38;5;241m/\u001b[39m \u001b[38;5;241m180\u001b[39m, num_votes, \u001b[38;5;28;01mNone\u001b[39;00m, \u001b[38;5;241m0\u001b[39m, \u001b[38;5;241m0\u001b[39m)\n",
      "\u001b[0;31mNameError\u001b[0m: name 'img2_canny' is not defined"
     ]
    }
   ],
   "source": [
    "num_votes = 60\n",
    "\n",
    "lines = cv2.HoughLines(img2_canny, 1, np.pi / 180, num_votes, None, 0, 0)"
   ]
  },
  {
   "cell_type": "markdown",
   "metadata": {},
   "source": [
    "Step 3: Draw the lines"
   ]
  },
  {
   "cell_type": "code",
   "execution_count": 97,
   "metadata": {},
   "outputs": [],
   "source": [
    "if lines is not None:\n",
    "    for i in range(0, len(lines)):\n",
    "        rho = lines[i][0][0]\n",
    "        theta = lines[i][0][1]\n",
    "        a = math.cos(theta)\n",
    "        b = math.sin(theta)\n",
    "        x0 = a * rho\n",
    "        y0 = b * rho\n",
    "        pt1 = (int(x0 + 1000*(-b)), int(y0 + 1000*(a)))\n",
    "        pt2 = (int(x0 - 1000*(-b)), int(y0 - 1000*(a)))\n",
    "        # Draw the line\n",
    "        cv2.line(img2_copy, pt1, pt2, (255,0,0), 3)\n",
    "\n",
    "cv2.imshow(\"Canny\", img2_canny)\n",
    "cv2.imshow(\"Image\", img2_copy)\n",
    "cv2.waitKey(0)\n",
    "cv2.destroyAllWindows()"
   ]
  }
 ],
 "metadata": {
  "kernelspec": {
   "display_name": "Python 3",
   "language": "python",
   "name": "python3"
  },
  "language_info": {
   "codemirror_mode": {
    "name": "ipython",
    "version": 3
   },
   "file_extension": ".py",
   "mimetype": "text/x-python",
   "name": "python",
   "nbconvert_exporter": "python",
   "pygments_lexer": "ipython3",
   "version": "3.10.12"
  },
  "orig_nbformat": 2
 },
 "nbformat": 4,
 "nbformat_minor": 2
}
